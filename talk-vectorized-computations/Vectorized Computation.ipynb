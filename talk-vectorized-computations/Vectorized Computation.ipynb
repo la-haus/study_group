{
 "cells": [
  {
   "cell_type": "markdown",
   "metadata": {},
   "source": [
    "Library requirements to run the following code.\n",
    "(we strongly recommend that you create a virtual environment before installing these\n",
    "See https://docs.python.org/3/tutorial/venv.html  Also make sure you are using Python 3.7 or newer )\n",
    "\n",
    "* numpy \n",
    "* Pillow\n",
    "* torch"
   ]
  },
  {
   "cell_type": "markdown",
   "metadata": {},
   "source": [
    "## Part 1: How slow is Python (for numeric computation) compared to C?"
   ]
  },
  {
   "cell_type": "code",
   "execution_count": 1,
   "metadata": {},
   "outputs": [
    {
     "data": {
      "text/plain": [
       "<module 'helpers' from '/home/teo/Dokumente/Vectorized Operations Talk/helpers.py'>"
      ]
     },
     "execution_count": 1,
     "metadata": {},
     "output_type": "execute_result"
    }
   ],
   "source": [
    "from importlib import reload\n",
    "from typing import List, Tuple\n",
    "import datetime as dt\n",
    "import helpers\n",
    "import random\n",
    "\n",
    "reload( helpers )"
   ]
  },
  {
   "cell_type": "code",
   "execution_count": 6,
   "metadata": {},
   "outputs": [],
   "source": [
    "def make_random_arrays( n: int ) -> Tuple[ List[float], List[float] ]:\n",
    "    a = [ random.random() for _ in range(n)]\n",
    "    b = [ random.random() for _ in range(n)]\n",
    "    \n",
    "    return a, b"
   ]
  },
  {
   "cell_type": "code",
   "execution_count": 7,
   "metadata": {},
   "outputs": [],
   "source": [
    "N = 10_000_000\n",
    "a, b = make_random_arrays(N)"
   ]
  },
  {
   "cell_type": "code",
   "execution_count": 15,
   "metadata": {},
   "outputs": [
    {
     "data": {
      "text/plain": [
       "list"
      ]
     },
     "execution_count": 15,
     "metadata": {},
     "output_type": "execute_result"
    }
   ],
   "source": [
    "type(a)"
   ]
  },
  {
   "cell_type": "code",
   "execution_count": 17,
   "metadata": {},
   "outputs": [
    {
     "data": {
      "text/plain": [
       "[0.13938566860645718,\n",
       " 0.3622965342202479,\n",
       " 0.01604670924412188,\n",
       " 0.14729400999200237,\n",
       " 0.06929583023394081,\n",
       " 0.6243616561469579,\n",
       " 0.5521376291746255,\n",
       " 0.6547843664688222,\n",
       " 0.3178712716535689,\n",
       " 0.3179277136813281]"
      ]
     },
     "execution_count": 17,
     "metadata": {},
     "output_type": "execute_result"
    }
   ],
   "source": [
    "a[:10] # first 10 elements of list"
   ]
  },
  {
   "cell_type": "markdown",
   "metadata": {},
   "source": [
    "We might never have 10_000_000 customers... \n",
    "\n",
    "But we do have tens of millions of web interaction events, for  instance.\n"
   ]
  },
  {
   "cell_type": "code",
   "execution_count": 18,
   "metadata": {},
   "outputs": [],
   "source": [
    "def dot_product_v0(a: List[float], b: List[float]) -> float:\n",
    "    n = len(a)\n",
    "    \n",
    "    result = 0.0 \n",
    "    for i in range(n):\n",
    "        result += a[i] * b[i]\n",
    "    \n",
    "    return result"
   ]
  },
  {
   "cell_type": "code",
   "execution_count": 19,
   "metadata": {},
   "outputs": [
    {
     "data": {
      "text/html": [
       "<p> /easypoll \"Question 1_v0.  How long does the call `dot_product_v0( a, b )` take when N = 10 million?\" \"~ 0.6 ms\" \"~ 6 ms\" \"~ 60 ms\" \"~ 600ms\" \"~ 6 s\"</p>\n",
       "<p> <b>Question 1_v0.</b> How long does the call `dot_product_v0( a, b )` take when N = 10 million?</p>\n",
       "<ol>\n",
       "<li>~ 0.6 ms</li>\n",
       "<li>~ 6 ms</li>\n",
       "<li>~ 60 ms</li>\n",
       "<li>~ 600ms</li>\n",
       "<li>~ 6 s</li>\n",
       "</ol"
      ],
      "text/plain": [
       "<IPython.core.display.HTML object>"
      ]
     },
     "metadata": {},
     "output_type": "display_data"
    }
   ],
   "source": [
    "%%question 1_v0\n",
    "\n",
    "How long does the call `dot_product_v0( a, b )` take when N = 10 million?\n",
    "~ 0.6 ms|~ 6 ms|~ 60 ms|~ 600ms|~ 6 s"
   ]
  },
  {
   "cell_type": "code",
   "execution_count": 20,
   "metadata": {},
   "outputs": [
    {
     "name": "stdout",
     "output_type": "stream",
     "text": [
      "CPU times: user 646 ms, sys: 0 ns, total: 646 ms\n",
      "Wall time: 645 ms\n"
     ]
    },
    {
     "data": {
      "text/plain": [
       "2501516.5638909573"
      ]
     },
     "execution_count": 20,
     "metadata": {},
     "output_type": "execute_result"
    }
   ],
   "source": [
    "%%time\n",
    "\n",
    "# a, b = make_arrays_at_random(N)\n",
    "dot_product_v0(a, b)"
   ]
  },
  {
   "cell_type": "code",
   "execution_count": 18,
   "metadata": {},
   "outputs": [],
   "source": [
    "def dot_product_v1(a: List[float], b: List[float]) -> float:\n",
    "    n = len(a)\n",
    "    \n",
    "    result = 0.0 \n",
    "    for elem_a, elem_b in zip(a, b):\n",
    "        result += elem_a * elem_b\n",
    "    \n",
    "    return result"
   ]
  },
  {
   "cell_type": "code",
   "execution_count": 22,
   "metadata": {},
   "outputs": [
    {
     "data": {
      "text/html": [
       "<p> /easypoll \"Question 1_v1.  How long does the call `dot_product_v1( a, b )` take when N = 10 million?\" \"~ 0.4 ms\" \"~ 4 ms\" \"~ 40 ms\" \"~ 400ms\" \"~ 4 s\"</p>\n",
       "<p> <b>Question 1_v1.</b> How long does the call `dot_product_v1( a, b )` take when N = 10 million?</p>\n",
       "<ol>\n",
       "<li>~ 0.4 ms</li>\n",
       "<li>~ 4 ms</li>\n",
       "<li>~ 40 ms</li>\n",
       "<li>~ 400ms</li>\n",
       "<li>~ 4 s</li>\n",
       "</ol"
      ],
      "text/plain": [
       "<IPython.core.display.HTML object>"
      ]
     },
     "metadata": {},
     "output_type": "display_data"
    }
   ],
   "source": [
    "%%question 1_v1\n",
    "\n",
    "How long does the call `dot_product_v1( a, b )` take when N = 10 million?\n",
    "~ 0.4 ms|~ 4 ms|~ 40 ms|~ 400ms|~ 4 s"
   ]
  },
  {
   "cell_type": "code",
   "execution_count": 23,
   "metadata": {},
   "outputs": [
    {
     "name": "stdout",
     "output_type": "stream",
     "text": [
      "419 ms ± 5.52 ms per loop (mean ± std. dev. of 10 runs, 1 loop each)\n"
     ]
    }
   ],
   "source": [
    "%%timeit -n1 -r10\n",
    "\n",
    "dot_product_v1(a, b)"
   ]
  },
  {
   "cell_type": "code",
   "execution_count": 24,
   "metadata": {},
   "outputs": [
    {
     "name": "stdout",
     "output_type": "stream",
     "text": [
      "446 ms ± 33 ms per loop (mean ± std. dev. of 10 runs, 1 loop each)\n"
     ]
    }
   ],
   "source": [
    "%%timeit -n1 -r10\n",
    "\n",
    "dot_product_v1(a, b)"
   ]
  },
  {
   "cell_type": "code",
   "execution_count": 25,
   "metadata": {},
   "outputs": [],
   "source": [
    "def dot_product_v2(a: List[float], b: List[float]) -> float:\n",
    "    n = len(a)\n",
    "    \n",
    "    result = sum( elem_a * elem_b for elem_a, elem_b in zip(a, b) )\n",
    "        \n",
    "    return result"
   ]
  },
  {
   "cell_type": "code",
   "execution_count": 26,
   "metadata": {},
   "outputs": [
    {
     "data": {
      "text/html": [
       "<p> /easypoll \"Question 1_v2.  How long does the call `dot_product_v2( a, b )` take when N = 10 million?\" \"~ 0.4 ms\" \"~ 4 ms\" \"~ 40 ms\" \"~ 400ms\" \"~ 4 s\"</p>\n",
       "<p> <b>Question 1_v2.</b> How long does the call `dot_product_v2( a, b )` take when N = 10 million?</p>\n",
       "<ol>\n",
       "<li>~ 0.4 ms</li>\n",
       "<li>~ 4 ms</li>\n",
       "<li>~ 40 ms</li>\n",
       "<li>~ 400ms</li>\n",
       "<li>~ 4 s</li>\n",
       "</ol"
      ],
      "text/plain": [
       "<IPython.core.display.HTML object>"
      ]
     },
     "metadata": {},
     "output_type": "display_data"
    }
   ],
   "source": [
    "%%question 1_v2\n",
    "\n",
    "How long does the call `dot_product_v2( a, b )` take when N = 10 million?\n",
    "~ 0.4 ms|~ 4 ms|~ 40 ms|~ 400ms|~ 4 s"
   ]
  },
  {
   "cell_type": "code",
   "execution_count": 27,
   "metadata": {},
   "outputs": [
    {
     "name": "stdout",
     "output_type": "stream",
     "text": [
      "673 ms ± 21.3 ms per loop (mean ± std. dev. of 10 runs, 1 loop each)\n"
     ]
    }
   ],
   "source": [
    "%%timeit -n1 -r10\n",
    "\n",
    "dot_product_v0(a, b)"
   ]
  },
  {
   "cell_type": "code",
   "execution_count": 28,
   "metadata": {},
   "outputs": [
    {
     "name": "stdout",
     "output_type": "stream",
     "text": [
      "484 ms ± 24.6 ms per loop (mean ± std. dev. of 10 runs, 1 loop each)\n"
     ]
    }
   ],
   "source": [
    "%%timeit -n1 -r10\n",
    "\n",
    "dot_product_v2(a, b)"
   ]
  },
  {
   "cell_type": "markdown",
   "metadata": {},
   "source": [
    "### Doing the same in Ruby"
   ]
  },
  {
   "cell_type": "code",
   "execution_count": 29,
   "metadata": {},
   "outputs": [
    {
     "data": {
      "text/html": [
       "<p> /easypoll \"Question 1_rb.  If we write the analogous of `dot_product_v0` and `dot_product_v2` in ruby. How would they perform, compared to Python.\" \"v0_rb > v0_py, v2_rb > v2_py\" \"v0_rb > v0_py, v2_rb < v2_py\" \"v0_rb < v0_py, v2_rb > v2_py\" \"v0_rb < v0_py, v2_rb < v2_py\"</p>\n",
       "<p> <b>Question 1_rb.</b> If we write the analogous of `dot_product_v0` and `dot_product_v2` in ruby. How would they perform, compared to Python.</p>\n",
       "<ol>\n",
       "<li>v0_rb > v0_py, v2_rb > v2_py</li>\n",
       "<li>v0_rb > v0_py, v2_rb < v2_py</li>\n",
       "<li>v0_rb < v0_py, v2_rb > v2_py</li>\n",
       "<li>v0_rb < v0_py, v2_rb < v2_py</li>\n",
       "</ol"
      ],
      "text/plain": [
       "<IPython.core.display.HTML object>"
      ]
     },
     "metadata": {},
     "output_type": "display_data"
    }
   ],
   "source": [
    "%%question 1_rb\n",
    "\n",
    "If we write the analogous of `dot_product_v0` and `dot_product_v2` in ruby. How would they perform, compared to Python.\n",
    "v0_rb > v0_py, v2_rb > v2_py|v0_rb > v0_py, v2_rb < v2_py|v0_rb < v0_py, v2_rb > v2_py|v0_rb < v0_py, v2_rb < v2_py\n"
   ]
  },
  {
   "cell_type": "code",
   "execution_count": 34,
   "metadata": {},
   "outputs": [
    {
     "data": {
      "text/plain": [
       "<module 'helpers' from '/home/teo/Dokumente/Vectorized Operations Talk/helpers.py'>"
      ]
     },
     "execution_count": 34,
     "metadata": {},
     "output_type": "execute_result"
    }
   ],
   "source": [
    "reload(helpers)"
   ]
  },
  {
   "cell_type": "code",
   "execution_count": 36,
   "metadata": {},
   "outputs": [
    {
     "name": "stdout",
     "output_type": "stream",
     "text": [
      "ruby 2.7.0p0 (2019-12-25 revision 647ee6f091) [x86_64-linux-gnu]\n",
      "dot_product_v0_rb time taken: 517.092 ± 5.077 ms (10 runs)\n",
      "dot_product_v2_rb time taken: 1537.388 ± 191.670 ms (10 runs)\n",
      "\n"
     ]
    }
   ],
   "source": [
    "%%run_ruby_program\n",
    "\n",
    "require \"./helpers.rb\"\n",
    "\n",
    "N = 10_000_000\n",
    "a = Array.new(N) { rand() }\n",
    "b = Array.new(N) { rand() }\n",
    "\n",
    "def dot_product_v0_rb(a, b)\n",
    "    n = a.size\n",
    "    \n",
    "    result = 0.0 \n",
    "    for i in (0...n)\n",
    "        result += a[i] * b[i]\n",
    "    end\n",
    "    \n",
    "    result\n",
    "end\n",
    "\n",
    "\n",
    "def dot_product_v2_rb(a, b)\n",
    "    a.zip( b ).map { |x, y| x * y }.sum\n",
    "    # a.zip(b).inject { |accum, pair| accum + pair[0] * pair[1] }\n",
    "end\n",
    "\n",
    "measure('dot_product_v0_rb', n=10) { dot_product_v0_rb(a, b) }\n",
    "measure('dot_product_v2_rb', n=10) { dot_product_v2_rb(a, b) }"
   ]
  },
  {
   "cell_type": "markdown",
   "metadata": {},
   "source": [
    "### Trying the same in crystal-lang"
   ]
  },
  {
   "cell_type": "markdown",
   "metadata": {},
   "source": [
    "Trying the same in [crystal-lang](https://www.crystal-lang.org) A language heavily inspired but ruby but compiled, not interpreted!"
   ]
  },
  {
   "cell_type": "code",
   "execution_count": 3,
   "metadata": {},
   "outputs": [
    {
     "name": "stdout",
     "output_type": "stream",
     "text": [
      "dot_product_v0_rb time taken: 153.717 ± 4.477 ms (10 runs)\n",
      "dot_product_v2_rb time taken: 421.642 ± 27.021 ms (10 runs)\n",
      "\n"
     ]
    }
   ],
   "source": [
    "%%run_crystal_program\n",
    "\n",
    "require \"./helpers\"\n",
    "\n",
    "N = 10_000_000\n",
    "a = Array.new(N) { rand() }\n",
    "b = Array.new(N) { rand() }\n",
    "\n",
    "def dot_product_v0_rb(a, b)\n",
    "    n = a.size\n",
    "    \n",
    "    result = 0.0 \n",
    "    i = 0\n",
    "    \n",
    "    while i < n  \n",
    "        result += a[i] * b[i]\n",
    "        i += 1  \n",
    "    end\n",
    "    \n",
    "    result\n",
    "end\n",
    "\n",
    "\n",
    "def dot_product_v2_rb(a, b)\n",
    "    a.zip( b ).map { |x, y| x * y }.sum  \n",
    "end\n",
    "\n",
    "measure(\"dot_product_v0_rb\", n=10) { dot_product_v0_rb(a, b) }\n",
    "measure(\"dot_product_v2_rb\", n=10) { dot_product_v2_rb(a, b) }"
   ]
  },
  {
   "cell_type": "markdown",
   "metadata": {},
   "source": [
    "\n",
    "### Doing the same in C "
   ]
  },
  {
   "cell_type": "code",
   "execution_count": 4,
   "metadata": {},
   "outputs": [
    {
     "name": "stdout",
     "output_type": "stream",
     "text": [
      "Running c code...:\n",
      "sample #  1: 24.312 ms\n",
      "sample #  2: 24.330 ms\n",
      "sample #  3: 24.416 ms\n",
      "sample #  4: 23.944 ms\n",
      "sample #  5: 23.900 ms\n",
      "sample #  6: 24.003 ms\n",
      "sample #  7: 24.345 ms\n",
      "sample #  8: 23.874 ms\n",
      "sample #  9: 23.954 ms\n",
      "sample # 10: 24.762 ms\n",
      "\n",
      "24.184 ms ± 0.278 ms per loop (mean ± std. dev. of 10 runs)\n"
     ]
    }
   ],
   "source": [
    "%%run_c_code\n",
    "\n",
    "#include \"helpers.c\"\n",
    "\n",
    "double dot_product_v0( float* a, float* b, int n ) {\n",
    "    double result = 0;\n",
    "    \n",
    "    for( int i = 0; i < n; ++i ) {\n",
    "        result += a[i] * b[i];\n",
    "    }    \n",
    "    return result;\n",
    "}\n",
    "\n",
    "int main() {\n",
    "    int N = 10000000;\n",
    "\n",
    "    float *a = (float*) malloc(N * sizeof(float));\n",
    "    float *b = (float*) malloc(N * sizeof(float));\n",
    "\n",
    "    randomize_array( a, N );\n",
    "    randomize_array( b, N );\n",
    "\n",
    "    timeit( 10, dot_product_v0(a, b, N) );\n",
    "        \n",
    "    free( a );\n",
    "    free( b );\n",
    "}"
   ]
  },
  {
   "cell_type": "markdown",
   "metadata": {},
   "source": [
    "## 2. Making Python faster than C"
   ]
  },
  {
   "cell_type": "code",
   "execution_count": 5,
   "metadata": {},
   "outputs": [
    {
     "name": "stdout",
     "output_type": "stream",
     "text": [
      "<class 'list'>\n"
     ]
    }
   ],
   "source": [
    "a0 = [ 1.0, 2.0, 3.0 ]\n",
    "print( type(a0) )"
   ]
  },
  {
   "cell_type": "code",
   "execution_count": 6,
   "metadata": {},
   "outputs": [],
   "source": [
    "import numpy as np\n",
    "\n",
    "N = 10_000_000\n",
    "a = np.random.rand(N)\n",
    "b = np.random.rand(N)"
   ]
  },
  {
   "cell_type": "code",
   "execution_count": 7,
   "metadata": {},
   "outputs": [
    {
     "data": {
      "text/plain": [
       "array([0.81751709, 0.01889141, 0.52258106, ..., 0.99837801, 0.96163608,\n",
       "       0.26371896])"
      ]
     },
     "execution_count": 7,
     "metadata": {},
     "output_type": "execute_result"
    }
   ],
   "source": [
    "a"
   ]
  },
  {
   "cell_type": "code",
   "execution_count": 8,
   "metadata": {},
   "outputs": [
    {
     "data": {
      "text/plain": [
       "numpy.ndarray"
      ]
     },
     "execution_count": 8,
     "metadata": {},
     "output_type": "execute_result"
    }
   ],
   "source": [
    "type(a)"
   ]
  },
  {
   "cell_type": "code",
   "execution_count": 9,
   "metadata": {},
   "outputs": [
    {
     "data": {
      "text/html": [
       "<p> /easypoll \"Question 2_np.  How long does computing the dot product via `np.dot(a, b)` take?\" \" 1 ms\" \"10 ms\" \"25 ms\" \"50 ms\" \">50 ms \"</p>\n",
       "<p> <b>Question 2_np.</b> How long does computing the dot product via `np.dot(a, b)` take?</p>\n",
       "<ol>\n",
       "<li> 1 ms</li>\n",
       "<li>10 ms</li>\n",
       "<li>25 ms</li>\n",
       "<li>50 ms</li>\n",
       "<li>>50 ms </li>\n",
       "</ol"
      ],
      "text/plain": [
       "<IPython.core.display.HTML object>"
      ]
     },
     "metadata": {},
     "output_type": "display_data"
    }
   ],
   "source": [
    "%%question 2_np\n",
    "\n",
    "How long does computing the dot product via `np.dot(a, b)` take?\n",
    " 1 ms|10 ms|25 ms|50 ms|>50 ms "
   ]
  },
  {
   "cell_type": "code",
   "execution_count": 11,
   "metadata": {},
   "outputs": [
    {
     "name": "stdout",
     "output_type": "stream",
     "text": [
      "13.2 ms ± 3.05 ms per loop (mean ± std. dev. of 100 runs, 1 loop each)\n"
     ]
    }
   ],
   "source": [
    "%%timeit -n1 -r100\n",
    "\n",
    "np.dot( a, b )"
   ]
  },
  {
   "cell_type": "markdown",
   "metadata": {},
   "source": [
    "This is the first example of a **vectorized operation**. \n",
    "\n",
    "Simple definition of vectorized operation:\n",
    "\n",
    "- It's an operation (i.e. function call) that does not involve loops in a high level interpreted language (such as Python, Ruby, R, PHP, Lua, etc...)\n",
    "- All looping is done at the C/C++ level or lower...\n",
    "- It uses compact an efficient data structures such as np.ndarray"
   ]
  },
  {
   "cell_type": "markdown",
   "metadata": {},
   "source": [
    "### How is this even possible!?\n",
    "\n",
    "1. `numpy` is implemented in C under the hood. So this is not really Python running...\n",
    "2. `numpy`'s code is optimized internally using various advanced techniques, such as taking advantage of SIMD features of the underlying CPU.\n"
   ]
  },
  {
   "cell_type": "markdown",
   "metadata": {},
   "source": [
    "# 2.1  Multidimensional arrays"
   ]
  },
  {
   "cell_type": "markdown",
   "metadata": {},
   "source": [
    "Vectorized operations really shine when dealing with multidimensional arrays!\n",
    "\n",
    "A matrix is an example of a multidimensional array. \n",
    "\n",
    "More precisely, **a matrix is a two dimensional or \"2d\"-array**.\n",
    "\n",
    "Even more precisely, **a matrix is a rank-2 _tensor_** "
   ]
  },
  {
   "cell_type": "markdown",
   "metadata": {},
   "source": [
    "### Example: \n",
    "A matrix with the 10 characteristics of 10.000  real estates would be a 10.000-by-10 matrix (10 million entries in total)\n",
    "\n",
    "Similarly a matrix with 10 search criteria for each of 1.000 customers would be a ....\n"
   ]
  },
  {
   "cell_type": "code",
   "execution_count": 12,
   "metadata": {},
   "outputs": [
    {
     "name": "stdout",
     "output_type": "stream",
     "text": [
      "[[0.47891014 0.00579048 0.8141111  ... 0.67161829 0.00510869 0.635186  ]\n",
      " [0.27048119 0.69130997 0.81096686 ... 0.34898346 0.0557773  0.77774732]\n",
      " [0.89601698 0.20633795 0.31719482 ... 0.38851082 0.14627792 0.27208681]\n",
      " ...\n",
      " [0.92808318 0.31427837 0.08322502 ... 0.35377213 0.01100655 0.24598937]\n",
      " [0.23687208 0.92404894 0.49105104 ... 0.17916575 0.37254507 0.50249517]\n",
      " [0.19076363 0.70146181 0.57608471 ... 0.58467713 0.40260967 0.76022052]] \n",
      "\n",
      "(10000, 10)\n"
     ]
    }
   ],
   "source": [
    "real_estates = np.random.rand(10_000, 10)\n",
    "print( real_estates, \"\\n\" )\n",
    "print( real_estates.shape )"
   ]
  },
  {
   "cell_type": "code",
   "execution_count": 13,
   "metadata": {},
   "outputs": [
    {
     "name": "stdout",
     "output_type": "stream",
     "text": [
      "[[0.61181557 0.8907004  0.53532973 ... 0.43719749 0.94805528 0.78103089]\n",
      " [0.36413575 0.08440433 0.81038138 ... 0.07126302 0.83193529 0.05982337]\n",
      " [0.76512857 0.78785905 0.78299466 ... 0.88818751 0.4752882  0.17877301]\n",
      " ...\n",
      " [0.52184017 0.20906067 0.00141348 ... 0.98794332 0.34172932 0.53246752]\n",
      " [0.71878447 0.31441191 0.12907061 ... 0.05158623 0.53572919 0.53681659]\n",
      " [0.58985326 0.96208274 0.80535018 ... 0.44140785 0.8194333  0.20298018]] \n",
      "\n",
      "(1000, 10)\n"
     ]
    }
   ],
   "source": [
    "users = np.random.rand(1000, 10)\n",
    "print( users, \"\\n\" )\n",
    "print( users.shape )"
   ]
  },
  {
   "cell_type": "code",
   "execution_count": 14,
   "metadata": {},
   "outputs": [],
   "source": [
    "def compute_user_real_estate_match( users: np.ndarray, \n",
    "                                    real_estates: np.ndarray ) -> np.ndarray:\n",
    "    \n",
    "    n_users = users.shape[0]\n",
    "    print( f\"n_users = {n_users}\")\n",
    "    n_real_estates = real_estates.shape[0]\n",
    "    print( f\"n_real_estates = {n_real_estates}\")\n",
    "    \n",
    "    result = np.zeros( (n_users, n_real_estates) )\n",
    "    \n",
    "    for user_idx in range( n_users ):\n",
    "        for re_idx in range( n_real_estates ):\n",
    "            result[ user_idx, re_idx ] = dot_product_v1( users[user_idx, :], \n",
    "                                                         real_estates[re_idx, :] )\n",
    "    \n",
    "    return result"
   ]
  },
  {
   "cell_type": "code",
   "execution_count": 15,
   "metadata": {},
   "outputs": [
    {
     "data": {
      "text/html": [
       "<p> /easypoll \"Question 2m1.  How many entries does the `result` matrix have?\" \"10⁵\" \"10⁷\" \"10⁸\" \"10⁹\" \"10¹⁰\"</p>\n",
       "<p> <b>Question 2m1.</b> How many entries does the `result` matrix have?</p>\n",
       "<ol>\n",
       "<li>10⁵</li>\n",
       "<li>10⁷</li>\n",
       "<li>10⁸</li>\n",
       "<li>10⁹</li>\n",
       "<li>10¹⁰</li>\n",
       "</ol"
      ],
      "text/plain": [
       "<IPython.core.display.HTML object>"
      ]
     },
     "metadata": {},
     "output_type": "display_data"
    }
   ],
   "source": [
    "%%question 2m1\n",
    "\n",
    "How many entries does the `result` matrix have?\n",
    "10⁵|10⁷|10⁸|10⁹|10¹⁰"
   ]
  },
  {
   "cell_type": "code",
   "execution_count": 16,
   "metadata": {},
   "outputs": [
    {
     "data": {
      "text/html": [
       "<p> /easypoll \"Question 2m2.  How many operations operations on single number are done to compute it?\" \"~ 10*10.000+10*1_000=110.000 \" \"~ 10.000*1.000=10 MM\" \"~2*10.000*1.000=20 MM\" \"~2*10.000*1.000*10 = 200 MM\"</p>\n",
       "<p> <b>Question 2m2.</b> How many operations operations on single number are done to compute it?</p>\n",
       "<ol>\n",
       "<li>~ 10*10.000+10*1_000=110.000 </li>\n",
       "<li>~ 10.000*1.000=10 MM</li>\n",
       "<li>~2*10.000*1.000=20 MM</li>\n",
       "<li>~2*10.000*1.000*10 = 200 MM</li>\n",
       "</ol"
      ],
      "text/plain": [
       "<IPython.core.display.HTML object>"
      ]
     },
     "metadata": {},
     "output_type": "display_data"
    }
   ],
   "source": [
    "%%question 2m2\n",
    "\n",
    "How many operations operations on single number are done to compute it?\n",
    "~ 10*10.000+10*1_000=110.000 |~ 10.000*1.000=10 MM|~2*10.000*1.000=20 MM|~2*10.000*1.000*10 = 200 MM"
   ]
  },
  {
   "cell_type": "code",
   "execution_count": 19,
   "metadata": {},
   "outputs": [
    {
     "name": "stdout",
     "output_type": "stream",
     "text": [
      "n_users = 1000\n",
      "n_real_estates = 10000\n",
      "CPU times: user 43.9 s, sys: 37.7 ms, total: 44 s\n",
      "Wall time: 44 s\n"
     ]
    }
   ],
   "source": [
    "%%time\n",
    "match_matrix = compute_user_real_estate_match(users, real_estates)"
   ]
  },
  {
   "cell_type": "code",
   "execution_count": 20,
   "metadata": {},
   "outputs": [
    {
     "name": "stdout",
     "output_type": "stream",
     "text": [
      "69.7 ms ± 25.6 ms per loop (mean ± std. dev. of 100 runs, 1 loop each)\n"
     ]
    }
   ],
   "source": [
    "%%timeit -n1 -r100\n",
    "match_matrix_np = np.dot( users, real_estates.transpose() )"
   ]
  },
  {
   "cell_type": "code",
   "execution_count": 23,
   "metadata": {},
   "outputs": [
    {
     "data": {
      "text/plain": [
       "array([[1.96480205, 3.00044595, 1.80624857],\n",
       "       [1.20766574, 1.54381355, 1.00101797],\n",
       "       [2.16676086, 3.03512547, 1.92771138]])"
      ]
     },
     "execution_count": 23,
     "metadata": {},
     "output_type": "execute_result"
    }
   ],
   "source": [
    "match_matrix[:3, :3]"
   ]
  },
  {
   "cell_type": "code",
   "execution_count": 24,
   "metadata": {},
   "outputs": [
    {
     "data": {
      "text/plain": [
       "array([[1.96480205, 3.00044595, 1.80624857],\n",
       "       [1.20766574, 1.54381355, 1.00101797],\n",
       "       [2.16676086, 3.03512547, 1.92771138]])"
      ]
     },
     "execution_count": 24,
     "metadata": {},
     "output_type": "execute_result"
    }
   ],
   "source": [
    "match_matrix_np = np.dot( users, real_estates.transpose() )\n",
    "match_matrix_np[:3, :3]"
   ]
  },
  {
   "cell_type": "markdown",
   "metadata": {},
   "source": [
    "## Tensors\n",
    "\n",
    "In the context of computing, **Tensor** is just a fancier, more precise and technical word for a \"multidimensional array\". \n",
    "\n",
    "The name is due to their origin in physics, in the context of the study of tension forces in elastic surfaces (2D) or solids (3D).\n",
    "\n",
    "The name _Tensorflow_ (most popular deep learning framework) comes from tensor.\n",
    "\n",
    "Tensors are better understood graphically:\n",
    "\n",
    "<img src=\"./tensors_1d_2d_3d.png\" />\n",
    "\n",
    "Thus:\n",
    "\n",
    "1. Tensor of rank-1 = vector = (linear) array\n",
    "2. Tensor of rank-2 = matrix\n",
    "3. Tensor of rank-3 = \"cube\"\n",
    "4. Tensor of rank-4 = array of cubes\n",
    "5. Tensor of rank-5 = matix of cubes \n",
    "\n",
    "etc..."
   ]
  },
  {
   "cell_type": "markdown",
   "metadata": {},
   "source": [
    "## **Example of a rank-3 tensor**"
   ]
  },
  {
   "cell_type": "code",
   "execution_count": 25,
   "metadata": {},
   "outputs": [
    {
     "name": "stdout",
     "output_type": "stream",
     "text": [
      "(713, 954, 3)\n"
     ]
    }
   ],
   "source": [
    "from PIL import Image\n",
    "image = Image.open(\"./tensors_1d_2d_3d.png\")\n",
    "tensor = np.array(image)\n",
    "\n",
    "print( tensor.shape )"
   ]
  },
  {
   "cell_type": "markdown",
   "metadata": {},
   "source": [
    "## Example of a rank-4 tensor"
   ]
  },
  {
   "cell_type": "code",
   "execution_count": 26,
   "metadata": {},
   "outputs": [
    {
     "data": {
      "text/plain": [
       "((300, 300, 3), (300, 300, 3))"
      ]
     },
     "execution_count": 26,
     "metadata": {},
     "output_type": "execute_result"
    }
   ],
   "source": [
    "image1 = Image.open(\"./tensors_1d_2d_3d.png\").resize( (300,300) )\n",
    "image2 = Image.open(\"./book_cover.webp\").resize( (300,300) )\n",
    "np.array(image1).shape, np.array(image2).shape"
   ]
  },
  {
   "cell_type": "code",
   "execution_count": 27,
   "metadata": {},
   "outputs": [
    {
     "data": {
      "text/plain": [
       "(2, 300, 300, 3)"
      ]
     },
     "execution_count": 27,
     "metadata": {},
     "output_type": "execute_result"
    }
   ],
   "source": [
    "tensor_r4 = np.stack( [np.array(image1), np.array(image2)] )\n",
    "tensor_r4.shape"
   ]
  },
  {
   "cell_type": "markdown",
   "metadata": {},
   "source": [
    "## 3. Extreme vectorization -  GPUs / TPUs\n",
    "\n",
    "**Key insight:** most vectorized operations are highly parallelizable\n",
    "\n",
    "E.g. we are multiplying `a[0] * b[0]`, `a[1] * b[1]`, `a[2] * b[2]` and these operations do no depend on each other.\n",
    "\n",
    "Furthermore, we are doing the _same operation_, multiplication, we are just varying the _values_ being multiplied.\n",
    "\n",
    "### Enter  SIMD architectures:\n",
    "\n",
    "SIMD = Single Instruction Multiple Data\n",
    "\n",
    "Many modern architectures have special CPU level instructions to stream-line these kinds of computations, effectively carrying several multiplications (e.g. 4) within a single clock cycle!\n",
    "\n",
    "<table>\n",
    "   <tr>\n",
    "   <td> <img src=\"ordinary-cpu.png\" width=\"400\" height=\"400\"/> </td>\n",
    "    <td> <img src=\"simd-cpu.png\" width=\"400\" height=\"400\"/> </td>\n",
    "   </tr>\n",
    "</table"
   ]
  },
  {
   "cell_type": "markdown",
   "metadata": {},
   "source": [
    "## Enter GPUs"
   ]
  },
  {
   "cell_type": "markdown",
   "metadata": {},
   "source": [
    "GPU = Graphics Processing Unit\n",
    "\n",
    "* Again: single instruction multiple data\n",
    "* High parallelization (256+ cores)\n",
    "* Separate RAM"
   ]
  },
  {
   "cell_type": "code",
   "execution_count": 28,
   "metadata": {},
   "outputs": [
    {
     "name": "stdout",
     "output_type": "stream",
     "text": [
      "device=cuda\n"
     ]
    }
   ],
   "source": [
    "import torch\n",
    "\n",
    "device = torch.device('cuda' if torch.cuda.is_available() else 'cpu')\n",
    "print( f\"device={device}\" )"
   ]
  },
  {
   "cell_type": "code",
   "execution_count": 29,
   "metadata": {},
   "outputs": [],
   "source": [
    "a = np.random.rand(10000, 10)\n",
    "b = np.random.rand(1000, 10)"
   ]
  },
  {
   "cell_type": "code",
   "execution_count": 30,
   "metadata": {},
   "outputs": [
    {
     "name": "stdout",
     "output_type": "stream",
     "text": [
      "45.8 ms ± 2.43 ms per loop (mean ± std. dev. of 10 runs, 1 loop each)\n"
     ]
    }
   ],
   "source": [
    "%%timeit -n1 -r10\n",
    "c = np.dot( a, b.transpose() )"
   ]
  },
  {
   "cell_type": "code",
   "execution_count": 31,
   "metadata": {},
   "outputs": [],
   "source": [
    "a_gpu = torch.tensor(a).to( device )\n",
    "bT_gpu = torch.tensor(b.transpose()).to( device )"
   ]
  },
  {
   "cell_type": "code",
   "execution_count": 32,
   "metadata": {},
   "outputs": [
    {
     "name": "stdout",
     "output_type": "stream",
     "text": [
      "The slowest run took 110.83 times longer than the fastest. This could mean that an intermediate result is being cached.\n",
      "127 µs ± 331 µs per loop (mean ± std. dev. of 10 runs, 1 loop each)\n"
     ]
    }
   ],
   "source": [
    "%%timeit -n1 -r10\n",
    "c_gpu = torch.matmul( a_gpu, bT_gpu )"
   ]
  },
  {
   "cell_type": "code",
   "execution_count": 33,
   "metadata": {},
   "outputs": [
    {
     "name": "stdout",
     "output_type": "stream",
     "text": [
      "torch.Size([10000, 1000])\n"
     ]
    }
   ],
   "source": [
    "c_gpu = torch.matmul( a_gpu, bT_gpu )\n",
    "print( c_gpu.shape )"
   ]
  },
  {
   "cell_type": "markdown",
   "metadata": {},
   "source": [
    "There is a catch... Moving data between main memory and gpu takes some time as well."
   ]
  },
  {
   "cell_type": "code",
   "execution_count": 34,
   "metadata": {},
   "outputs": [
    {
     "name": "stdout",
     "output_type": "stream",
     "text": [
      "36 ms ± 1.67 ms per loop (mean ± std. dev. of 10 runs, 1 loop each)\n"
     ]
    }
   ],
   "source": [
    "%%timeit -n1 -r10\n",
    "c = c_gpu.to('cpu')"
   ]
  },
  {
   "cell_type": "markdown",
   "metadata": {},
   "source": [
    "## Appendix: Latencies of different operations\n",
    "\n",
    "\n",
    "| Operation | Actual Time | Human Time | Human Action |\n",
    "| --- | --- | --- | --- |\n",
    "| 1 CPU Cycle | 0.3 ns |  1 s | Heart beat |\n",
    "| L1 cache acces| 0.5 ns | 2 s | | \n",
    "| L2 cache access | 2.8 ns | 9 s | Breath twice\n",
    "| L3 cache access  | 12.9 ns | 43 s | Lookup something in a book\n",
    "| Main memory reference | 100 ns | 5 min | Call a friend and ask a question\n",
    "| Compress 1K bytes with Zippy | 3000 ns = 3 µs | 2.5 hr | A long nap\n",
    "| Send 2K bytes over 1 Gbps network | 20 µs | 16 hrs |\n",
    "| SSD random read | 150 µs | 41 hours | > 1 day\n",
    "| Read 1 MB sequentially from memory | 250 µs | 69 hrs | A long weekend\n",
    "| Round trip within same datacenter | 500 µs | 138 hrs | Almost a week\n",
    "| Read 1 MB sequentially from SSD* | 1 ms | 277 hrs | 11 days\n",
    "| (rotational) disk seek  | 10 ms | 115 days | A season\n",
    "| Read 1 MB sequentially from disk | 20 ms | 231 days | ~weekdays in a year\n",
    "| Send packet CA->Netherlands->CA . | 150 ms | 4.7 years | Finish University Degree\n"
   ]
  },
  {
   "cell_type": "markdown",
   "metadata": {},
   "source": [
    "## References\n",
    "\n",
    "Wikipedia: https://en.wikipedia.org/wiki/Graphics_processing_unit\n",
    "\n",
    "Crystal (programming language): https://crystal-lang.org\n",
    "\n",
    "numpy (library numeric computation in Python): https://numpy.org/doc/stable/user/index.html\n",
    "\n",
    "PyTorch (library for numeric compution using GPU): https://numpy.org/doc/stable/user/index.html\n"
   ]
  }
 ],
 "metadata": {
  "kernelspec": {
   "display_name": "Python 3",
   "language": "python",
   "name": "python3"
  },
  "language_info": {
   "codemirror_mode": {
    "name": "ipython",
    "version": 3
   },
   "file_extension": ".py",
   "mimetype": "text/x-python",
   "name": "python",
   "nbconvert_exporter": "python",
   "pygments_lexer": "ipython3",
   "version": "3.7.10"
  }
 },
 "nbformat": 4,
 "nbformat_minor": 5
}
